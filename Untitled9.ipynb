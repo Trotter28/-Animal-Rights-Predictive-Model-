{
 "cells": [
  {
   "cell_type": "code",
   "execution_count": 1,
   "id": "1be64e3e",
   "metadata": {},
   "outputs": [],
   "source": [
    "import pandas as pd\n",
    "from sklearn.feature_extraction.text import CountVectorizer\n",
    "from sklearn.model_selection import train_test_split\n",
    "from sklearn.naive_bayes import MultinomialNB\n",
    "from sklearn.metrics import accuracy_score"
   ]
  },
  {
   "cell_type": "code",
   "execution_count": 2,
   "id": "66be067d",
   "metadata": {},
   "outputs": [],
   "source": [
    "df = pd.read_csv(\"Combined Labled Dataset.csv\")"
   ]
  },
  {
   "cell_type": "code",
   "execution_count": 3,
   "id": "ddadfbbb",
   "metadata": {},
   "outputs": [],
   "source": [
    "X_train, X_test, y_train, y_test = train_test_split(df['text'], df['sentiment'], test_size=0.2)"
   ]
  },
  {
   "cell_type": "code",
   "execution_count": 4,
   "id": "2289a1e0",
   "metadata": {},
   "outputs": [],
   "source": [
    "#Convert the text data into numerical features using the CountVectorizer\n",
    "vectorizer = CountVectorizer()\n",
    "X_train = vectorizer.fit_transform(X_train)\n",
    "X_test = vectorizer.transform(X_test)"
   ]
  },
  {
   "cell_type": "code",
   "execution_count": 5,
   "id": "8f0065d8",
   "metadata": {},
   "outputs": [
    {
     "data": {
      "text/plain": [
       "MultinomialNB()"
      ]
     },
     "execution_count": 5,
     "metadata": {},
     "output_type": "execute_result"
    }
   ],
   "source": [
    "#Develop the model, then train it using the training set of data.\n",
    "model = MultinomialNB()\n",
    "model.fit(X_train, y_train)"
   ]
  },
  {
   "cell_type": "code",
   "execution_count": 6,
   "id": "f8f51d39",
   "metadata": {},
   "outputs": [],
   "source": [
    "#Make predictions on the test data\n",
    "y_pred = model.predict(X_test)"
   ]
  },
  {
   "cell_type": "code",
   "execution_count": 7,
   "id": "d76dcabd",
   "metadata": {},
   "outputs": [
    {
     "name": "stdout",
     "output_type": "stream",
     "text": [
      "Accuracy: 0.9137609795049242\n"
     ]
    }
   ],
   "source": [
    "accuracy = accuracy_score(y_test, y_pred)\n",
    "print(\"Accuracy:\", accuracy)"
   ]
  },
  {
   "cell_type": "code",
   "execution_count": 8,
   "id": "16b7e21b",
   "metadata": {},
   "outputs": [],
   "source": [
    "import pandas as pd\n",
    "from sklearn.feature_extraction.text import CountVectorizer\n",
    "from sklearn.linear_model import LogisticRegression\n",
    "from sklearn.metrics import accuracy_score"
   ]
  },
  {
   "cell_type": "code",
   "execution_count": 9,
   "id": "3aa2b51e",
   "metadata": {},
   "outputs": [],
   "source": [
    "# Read the new dataset\n",
    "new_data = pd.read_csv(\"old animal rights data.csv\")"
   ]
  },
  {
   "cell_type": "code",
   "execution_count": 10,
   "id": "e7eb211a",
   "metadata": {},
   "outputs": [],
   "source": [
    "# Prepare the new dataset\n",
    "X_new = new_data['text'] # feature variable"
   ]
  },
  {
   "cell_type": "code",
   "execution_count": 11,
   "id": "c0681cc7",
   "metadata": {},
   "outputs": [],
   "source": [
    "# Transform the new data using the already fitted vectorizer\n",
    "X_new_vectors = vectorizer.transform(X_new)"
   ]
  },
  {
   "cell_type": "code",
   "execution_count": 12,
   "id": "c75d3b1a",
   "metadata": {},
   "outputs": [],
   "source": [
    "from sklearn.linear_model import LogisticRegression"
   ]
  },
  {
   "cell_type": "code",
   "execution_count": 13,
   "id": "7f098a59",
   "metadata": {},
   "outputs": [],
   "source": [
    "# Make predictions on the new data\n",
    "y_pred_new = model.predict(X_new_vectors)"
   ]
  },
  {
   "cell_type": "code",
   "execution_count": 14,
   "id": "f60abc8a",
   "metadata": {},
   "outputs": [],
   "source": [
    "# Add the predicted sentiments to the new data\n",
    "new_data['sentiment'] = y_pred_new\n",
    "\n",
    "# Save the new data with the predicted sentiments to a CSV file\n",
    "new_data.to_csv('New Dataset with Predicted Sentiments.csv', index=False)"
   ]
  },
  {
   "cell_type": "code",
   "execution_count": 15,
   "id": "1b7b0857",
   "metadata": {},
   "outputs": [],
   "source": [
    "#randomforest model "
   ]
  },
  {
   "cell_type": "code",
   "execution_count": 16,
   "id": "ed7867bd",
   "metadata": {},
   "outputs": [],
   "source": [
    "import pandas as pd\n",
    "from sklearn.feature_extraction.text import CountVectorizer\n",
    "from sklearn.ensemble import RandomForestClassifier\n",
    "from sklearn.metrics import accuracy_score\n",
    "from sklearn.model_selection import train_test_split"
   ]
  },
  {
   "cell_type": "code",
   "execution_count": 17,
   "id": "8fc01ca1",
   "metadata": {},
   "outputs": [],
   "source": [
    "#read the dataset\n",
    "data = pd.read_csv(\"Combined Labled Dataset.csv\")"
   ]
  },
  {
   "cell_type": "code",
   "execution_count": 18,
   "id": "53743dbf",
   "metadata": {},
   "outputs": [],
   "source": [
    "# Prepare the dataset\n",
    "X = data['text'] # feature variable\n",
    "y = data['sentiment'] # target variable"
   ]
  },
  {
   "cell_type": "code",
   "execution_count": 19,
   "id": "c616d2b5",
   "metadata": {},
   "outputs": [],
   "source": [
    "# Split the dataset into training and test sets\n",
    "X_train, X_test, y_train, y_test = train_test_split(X, y, test_size=0.2, random_state=42)"
   ]
  },
  {
   "cell_type": "code",
   "execution_count": 20,
   "id": "4505b8c1",
   "metadata": {},
   "outputs": [],
   "source": [
    "# Initialize the CountVectorizer and fit it to the training data\n",
    "vectorizer = CountVectorizer()\n",
    "X_train_vectors = vectorizer.fit_transform(X_train)"
   ]
  },
  {
   "cell_type": "code",
   "execution_count": 21,
   "id": "a59fda1d",
   "metadata": {},
   "outputs": [],
   "source": [
    "# Transform the test data using the already fitted vectorizer\n",
    "X_test_vectors = vectorizer.transform(X_test)"
   ]
  },
  {
   "cell_type": "code",
   "execution_count": 22,
   "id": "602ecc90",
   "metadata": {},
   "outputs": [],
   "source": [
    "# Initialize the random forest model\n",
    "random_forest = RandomForestClassifier(n_estimators=100, max_depth=2, random_state=0)\n"
   ]
  },
  {
   "cell_type": "code",
   "execution_count": 23,
   "id": "d968ef13",
   "metadata": {},
   "outputs": [
    {
     "data": {
      "text/plain": [
       "RandomForestClassifier(max_depth=2, random_state=0)"
      ]
     },
     "execution_count": 23,
     "metadata": {},
     "output_type": "execute_result"
    }
   ],
   "source": [
    "# Fit the model to the training data\n",
    "random_forest.fit(X_train_vectors, y_train)"
   ]
  },
  {
   "cell_type": "code",
   "execution_count": 24,
   "id": "af4f1a86",
   "metadata": {},
   "outputs": [],
   "source": [
    "# Make predictions on the test data\n",
    "y_pred = random_forest.predict(X_test_vectors)"
   ]
  },
  {
   "cell_type": "code",
   "execution_count": 25,
   "id": "1869a7d9",
   "metadata": {},
   "outputs": [
    {
     "name": "stdout",
     "output_type": "stream",
     "text": [
      "Accuracy:  0.5026616981634283\n"
     ]
    }
   ],
   "source": [
    "# Calculate the accuracy of the model\n",
    "accuracy = accuracy_score(y_test, y_pred)\n",
    "print(\"Accuracy: \", accuracy)"
   ]
  },
  {
   "cell_type": "code",
   "execution_count": 26,
   "id": "5cea21ad",
   "metadata": {},
   "outputs": [],
   "source": [
    "#logistic regression method"
   ]
  },
  {
   "cell_type": "code",
   "execution_count": 27,
   "id": "0d91f457",
   "metadata": {},
   "outputs": [],
   "source": [
    "import pandas as pd\n",
    "from sklearn.feature_extraction.text import CountVectorizer\n",
    "from sklearn.linear_model import LogisticRegression\n",
    "from sklearn.metrics import accuracy_score\n",
    "from sklearn.model_selection import train_test_split"
   ]
  },
  {
   "cell_type": "code",
   "execution_count": 28,
   "id": "03767a62",
   "metadata": {},
   "outputs": [],
   "source": [
    "#read the dataset\n",
    "data = pd.read_csv(\"Combined Labled Dataset.csv\")\n"
   ]
  },
  {
   "cell_type": "code",
   "execution_count": 29,
   "id": "493927c5",
   "metadata": {},
   "outputs": [],
   "source": [
    "# Prepare the dataset\n",
    "X = data['text'] # feature variable\n",
    "y = data['sentiment'] # target variable"
   ]
  },
  {
   "cell_type": "code",
   "execution_count": 30,
   "id": "c6f5f5b4",
   "metadata": {},
   "outputs": [],
   "source": [
    "# Split the dataset into training and test sets\n",
    "X_train, X_test, y_train, y_test = train_test_split(X, y, test_size=0.2, random_state=42)"
   ]
  },
  {
   "cell_type": "code",
   "execution_count": 31,
   "id": "10c6fb74",
   "metadata": {},
   "outputs": [],
   "source": [
    "# Initialize the CountVectorizer and fit it to the training data\n",
    "vectorizer = CountVectorizer()\n",
    "X_train_vectors = vectorizer.fit_transform(X_train)"
   ]
  },
  {
   "cell_type": "code",
   "execution_count": 32,
   "id": "dcb66a0a",
   "metadata": {},
   "outputs": [],
   "source": [
    "# Transform the test data using the already fitted vectorizer\n",
    "X_test_vectors = vectorizer.transform(X_test)"
   ]
  },
  {
   "cell_type": "code",
   "execution_count": 33,
   "id": "060c8fc4",
   "metadata": {},
   "outputs": [],
   "source": [
    "# Initialize the logistic regression model\n",
    "logistic_regression = LogisticRegression(solver='lbfgs')"
   ]
  },
  {
   "cell_type": "code",
   "execution_count": 34,
   "id": "221216f2",
   "metadata": {},
   "outputs": [
    {
     "name": "stderr",
     "output_type": "stream",
     "text": [
      "C:\\Users\\mahaj\\anaconda3\\lib\\site-packages\\sklearn\\linear_model\\_logistic.py:814: ConvergenceWarning: lbfgs failed to converge (status=1):\n",
      "STOP: TOTAL NO. of ITERATIONS REACHED LIMIT.\n",
      "\n",
      "Increase the number of iterations (max_iter) or scale the data as shown in:\n",
      "    https://scikit-learn.org/stable/modules/preprocessing.html\n",
      "Please also refer to the documentation for alternative solver options:\n",
      "    https://scikit-learn.org/stable/modules/linear_model.html#logistic-regression\n",
      "  n_iter_i = _check_optimize_result(\n"
     ]
    },
    {
     "data": {
      "text/plain": [
       "LogisticRegression()"
      ]
     },
     "execution_count": 34,
     "metadata": {},
     "output_type": "execute_result"
    }
   ],
   "source": [
    "# Fit the model to the training data\n",
    "logistic_regression.fit(X_train_vectors, y_train)"
   ]
  },
  {
   "cell_type": "code",
   "execution_count": 35,
   "id": "96a298a8",
   "metadata": {},
   "outputs": [],
   "source": [
    "# Make predictions on the test data\n",
    "y_pred = logistic_regression.predict(X_test_vectors)"
   ]
  },
  {
   "cell_type": "code",
   "execution_count": 36,
   "id": "793c44db",
   "metadata": {},
   "outputs": [
    {
     "name": "stdout",
     "output_type": "stream",
     "text": [
      "Accuracy:  0.9780409901517167\n"
     ]
    }
   ],
   "source": [
    "# Check the accuracy of the model\n",
    "accuracy = accuracy_score(y_test, y_pred)\n",
    "print(\"Accuracy: \", accuracy)"
   ]
  },
  {
   "cell_type": "code",
   "execution_count": 75,
   "id": "8f9a61cb",
   "metadata": {},
   "outputs": [
    {
     "data": {
      "image/png": "[encoded data removed]",
      "text/plain": [
       "<Figure size 432x288 with 1 Axes>"
      ]
     },
     "metadata": {
      "needs_background": "light"
     },
     "output_type": "display_data"
    }
   ],
   "source": [
    "import matplotlib.pyplot as plt\n",
    "\n",
    "# Define the accuracy score of your model\n",
    "accuracy = 0.98\n",
    "\n",
    "# Create a list of x values (in this case just [0, 1])\n",
    "x = [0, 1]\n",
    "\n",
    "# Create a list of y values (in this case just [0, accuracy])\n",
    "y = [0, accuracy]\n",
    "\n",
    "# Plot the line using the x and y values\n",
    "plt.plot(x, y)\n",
    "\n",
    "# Add a title and axis labels\n",
    "plt.title(\"Model Accuracy\")\n",
    "plt.xlabel(\"Iteration\")\n",
    "plt.ylabel(\"Accuracy (%)\")\n",
    "\n",
    "# Show the plot\n",
    "plt.show()"
   ]
  },
  {
   "cell_type": "code",
   "execution_count": 37,
   "id": "92497e68",
   "metadata": {},
   "outputs": [],
   "source": [
    "#neural network model "
   ]
  },
  {
   "cell_type": "code",
   "execution_count": 38,
   "id": "ecd50efe",
   "metadata": {},
   "outputs": [],
   "source": [
    "import pandas as pd\n",
    "from sklearn.feature_extraction.text import CountVectorizer\n",
    "from sklearn.svm import SVC\n",
    "from sklearn.tree import DecisionTreeClassifier\n",
    "from sklearn.metrics import accuracy_score\n",
    "from sklearn.model_selection import train_test_split"
   ]
  },
  {
   "cell_type": "code",
   "execution_count": 39,
   "id": "1e5b8339",
   "metadata": {},
   "outputs": [],
   "source": [
    "#read the dataset\n",
    "data = pd.read_csv(\"Combined Labled Dataset.csv\")"
   ]
  },
  {
   "cell_type": "code",
   "execution_count": 40,
   "id": "86bcf082",
   "metadata": {},
   "outputs": [],
   "source": [
    "# Prepare the dataset\n",
    "X = data['text'] # feature variable\n",
    "y = data['sentiment'] # target variable"
   ]
  },
  {
   "cell_type": "code",
   "execution_count": 41,
   "id": "c199cee3",
   "metadata": {},
   "outputs": [],
   "source": [
    "# Split the dataset into training and test sets\n",
    "X_train, X_test, y_train, y_test = train_test_split(X, y, test_size=0.2, random_state=42)"
   ]
  },
  {
   "cell_type": "code",
   "execution_count": 42,
   "id": "9500da73",
   "metadata": {},
   "outputs": [],
   "source": [
    "# Initialize the CountVectorizer and fit it to the training data\n",
    "vectorizer = CountVectorizer()\n",
    "X_train_vectors = vectorizer.fit_transform(X_train)"
   ]
  },
  {
   "cell_type": "code",
   "execution_count": 43,
   "id": "7f418286",
   "metadata": {},
   "outputs": [],
   "source": [
    "# Transform the test data using the already fitted vectorizer\n",
    "X_test_vectors = vectorizer.transform(X_test)"
   ]
  },
  {
   "cell_type": "code",
   "execution_count": 44,
   "id": "1b8efeb8",
   "metadata": {},
   "outputs": [],
   "source": [
    "# Initialize the Support Vector Machine model\n",
    "svm = SVC(kernel='linear')"
   ]
  },
  {
   "cell_type": "code",
   "execution_count": 45,
   "id": "a9ee78c2",
   "metadata": {},
   "outputs": [
    {
     "data": {
      "text/plain": [
       "SVC(kernel='linear')"
      ]
     },
     "execution_count": 45,
     "metadata": {},
     "output_type": "execute_result"
    }
   ],
   "source": [
    "# Fit the model to the training data\n",
    "svm.fit(X_train_vectors, y_train)"
   ]
  },
  {
   "cell_type": "code",
   "execution_count": 46,
   "id": "20fd8ac1",
   "metadata": {},
   "outputs": [],
   "source": [
    "# Make predictions on the test data\n",
    "y_pred = svm.predict(X_test_vectors)"
   ]
  },
  {
   "cell_type": "code",
   "execution_count": 47,
   "id": "af64e544",
   "metadata": {},
   "outputs": [
    {
     "name": "stdout",
     "output_type": "stream",
     "text": [
      "Accuracy of Support Vector Machine:  0.9767101410700026\n"
     ]
    }
   ],
   "source": [
    "# Check the accuracy of the model\n",
    "accuracy = accuracy_score(y_test, y_pred)\n",
    "print(\"Accuracy of Support Vector Machine: \", accuracy)"
   ]
  },
  {
   "cell_type": "code",
   "execution_count": 48,
   "id": "484f2830",
   "metadata": {},
   "outputs": [],
   "source": [
    "import pandas as pd\n",
    "from sklearn.feature_extraction.text import CountVectorizer\n",
    "from sklearn.neural_network import MLPClassifier\n",
    "from sklearn.metrics import accuracy_score\n",
    "from sklearn.model_selection import train_test_split"
   ]
  },
  {
   "cell_type": "code",
   "execution_count": 49,
   "id": "a46c40e7",
   "metadata": {},
   "outputs": [],
   "source": [
    "#read the dataset\n",
    "data = pd.read_csv(\"Combined Labled Dataset.csv\")"
   ]
  },
  {
   "cell_type": "code",
   "execution_count": 50,
   "id": "35ee345d",
   "metadata": {},
   "outputs": [],
   "source": [
    "# Prepare the dataset\n",
    "X = data['text'] # feature variable\n",
    "y = data['sentiment'] # target variable"
   ]
  },
  {
   "cell_type": "code",
   "execution_count": 51,
   "id": "94b549b7",
   "metadata": {},
   "outputs": [],
   "source": [
    "# Split the dataset into training and test sets\n",
    "X_train, X_test, y_train, y_test = train_test_split(X, y, test_size=0.2, random_state=42)"
   ]
  },
  {
   "cell_type": "code",
   "execution_count": 52,
   "id": "17bba570",
   "metadata": {},
   "outputs": [],
   "source": [
    "# Initialize the CountVectorizer and fit it to the training data\n",
    "vectorizer = CountVectorizer()\n",
    "X_train_vectors = vectorizer.fit_transform(X_train)"
   ]
  },
  {
   "cell_type": "code",
   "execution_count": 53,
   "id": "2b716b03",
   "metadata": {},
   "outputs": [],
   "source": [
    "# Transform the test data using the already fitted vectorizer\n",
    "X_test_vectors = vectorizer.transform(X_test)"
   ]
  },
  {
   "cell_type": "code",
   "execution_count": 54,
   "id": "c5fbba6c",
   "metadata": {},
   "outputs": [],
   "source": [
    "# Initialize the Neural Network model\n",
    "neural_network = MLPClassifier(hidden_layer_sizes=(50,), max_iter=10, alpha=1e-4,\n",
    "                    solver='sgd', verbose=10, tol=1e-4, random_state=1,\n",
    "                    learning_rate_init=.1)"
   ]
  },
  {
   "cell_type": "code",
   "execution_count": 55,
   "id": "29812be6",
   "metadata": {},
   "outputs": [
    {
     "name": "stdout",
     "output_type": "stream",
     "text": [
      "Iteration 1, loss = 0.29728422\n",
      "Iteration 2, loss = 0.09241306\n",
      "Iteration 3, loss = 0.04301826\n",
      "Iteration 4, loss = 0.02470572\n",
      "Iteration 5, loss = 0.01470319\n",
      "Iteration 6, loss = 0.01009162\n",
      "Iteration 7, loss = 0.00660929\n",
      "Iteration 8, loss = 0.00446486\n",
      "Iteration 9, loss = 0.00354538\n",
      "Iteration 10, loss = 0.00269866\n"
     ]
    },
    {
     "name": "stderr",
     "output_type": "stream",
     "text": [
      "C:\\Users\\mahaj\\anaconda3\\lib\\site-packages\\sklearn\\neural_network\\_multilayer_perceptron.py:692: ConvergenceWarning: Stochastic Optimizer: Maximum iterations (10) reached and the optimization hasn't converged yet.\n",
      "  warnings.warn(\n"
     ]
    },
    {
     "data": {
      "text/plain": [
       "MLPClassifier(hidden_layer_sizes=(50,), learning_rate_init=0.1, max_iter=10,\n",
       "              random_state=1, solver='sgd', verbose=10)"
      ]
     },
     "execution_count": 55,
     "metadata": {},
     "output_type": "execute_result"
    }
   ],
   "source": [
    "# Fit the model to the training data\n",
    "neural_network.fit(X_train_vectors, y_train)"
   ]
  },
  {
   "cell_type": "code",
   "execution_count": 56,
   "id": "cb288e52",
   "metadata": {},
   "outputs": [],
   "source": [
    "# Make predictions on the test data\n",
    "y_pred = neural_network.predict(X_test_vectors)"
   ]
  },
  {
   "cell_type": "code",
   "execution_count": 57,
   "id": "1a0b587a",
   "metadata": {},
   "outputs": [
    {
     "name": "stdout",
     "output_type": "stream",
     "text": [
      "Accuracy of Neural Network:  0.9780409901517167\n"
     ]
    }
   ],
   "source": [
    "# Check the accuracy of the model\n",
    "accuracy = accuracy_score(y_test, y_pred)\n",
    "print(\"Accuracy of Neural Network: \", accuracy)"
   ]
  },
  {
   "cell_type": "code",
   "execution_count": 58,
   "id": "119f4379",
   "metadata": {},
   "outputs": [],
   "source": [
    "import matplotlib.pyplot as plt\n",
    "from sklearn.metrics import confusion_matrix"
   ]
  },
  {
   "cell_type": "code",
   "execution_count": 59,
   "id": "f6c2d27f",
   "metadata": {},
   "outputs": [],
   "source": [
    "# generate a confusion matrix\n",
    "cm = confusion_matrix(y_test, y_pred)"
   ]
  },
  {
   "cell_type": "code",
   "execution_count": 60,
   "id": "6c93994a",
   "metadata": {
    "scrolled": true
   },
   "outputs": [
    {
     "data": {
      "image/png": "[encoded data removed]",
      "text/plain": [
       "<Figure size 288x288 with 2 Axes>"
      ]
     },
     "metadata": {
      "needs_background": "light"
     },
     "output_type": "display_data"
    }
   ],
   "source": [
    "# plot the confusion matrix\n",
    "plt.matshow(cm)\n",
    "plt.title('Confusion matrix')\n",
    "plt.colorbar()\n",
    "plt.xlabel('Predicted label')\n",
    "plt.ylabel('True label')\n",
    "plt.show()"
   ]
  },
  {
   "cell_type": "code",
   "execution_count": 61,
   "id": "de15b0c2",
   "metadata": {},
   "outputs": [],
   "source": [
    "import pandas as pd\n",
    "from sklearn.feature_extraction.text import CountVectorizer\n",
    "from sklearn.neural_network import MLPClassifier\n",
    "from sklearn.metrics import accuracy_score"
   ]
  },
  {
   "cell_type": "code",
   "execution_count": 62,
   "id": "1b442c0c",
   "metadata": {},
   "outputs": [],
   "source": [
    "# Read the new dataset\n",
    "new_data = pd.read_csv(\"old animal rights data.csv\")"
   ]
  },
  {
   "cell_type": "code",
   "execution_count": 63,
   "id": "82265303",
   "metadata": {},
   "outputs": [],
   "source": [
    "# Prepare the new dataset\n",
    "X_new = new_data['text'] # feature variable"
   ]
  },
  {
   "cell_type": "code",
   "execution_count": 64,
   "id": "bd534d08",
   "metadata": {},
   "outputs": [],
   "source": [
    "# Transform the new data using the already fitted vectorizer\n",
    "X_new_vectors = vectorizer.transform(X_new)"
   ]
  },
  {
   "cell_type": "code",
   "execution_count": 65,
   "id": "d06c4127",
   "metadata": {},
   "outputs": [],
   "source": [
    "# Make predictions on the new data\n",
    "y_pred_new = neural_network.predict(X_new_vectors)"
   ]
  },
  {
   "cell_type": "code",
   "execution_count": 66,
   "id": "c05cd813",
   "metadata": {},
   "outputs": [],
   "source": [
    "# Add the predicted sentiments to the new data\n",
    "new_data['sentiment'] = y_pred_new\n",
    "\n",
    "# Save the new data with the predicted sentiments to a CSV file\n",
    "new_data.to_csv('New Dataset with Predicted Sentiments using nueral network.csv', index=False)"
   ]
  },
  {
   "cell_type": "code",
   "execution_count": 67,
   "id": "ac425156",
   "metadata": {},
   "outputs": [
    {
     "name": "stdout",
     "output_type": "stream",
     "text": [
      "Accuracy of Neural Network:  0.9780409901517167\n"
     ]
    }
   ],
   "source": [
    "# Check the accuracy of the model\n",
    "accuracy = accuracy_score(y_test, y_pred)\n",
    "print(\"Accuracy of Neural Network: \", accuracy)"
   ]
  },
  {
   "cell_type": "code",
   "execution_count": 82,
   "id": "1291e7b7",
   "metadata": {
    "scrolled": true
   },
   "outputs": [
    {
     "data": {
      "image/png": "[encoded data removed]",
      "text/plain": [
       "<Figure size 432x288 with 1 Axes>"
      ]
     },
     "metadata": {
      "needs_background": "light"
     },
     "output_type": "display_data"
    }
   ],
   "source": [
    "import matplotlib.pyplot as plt\n",
    "\n",
    "models = ['Multinomial Naive Bayes', 'Random Forest', 'Logistic Regression', 'Neural Network', 'Support Vector Machine']\n",
    "accuracy = [91.3, 50.2, 97.8, 98.8, 97.7]\n",
    "\n",
    "plt.bar(models, accuracy, color=['orange', 'blue', 'green', 'yellow', 'purple'])\n",
    "plt.ylabel('Accuracy Percentage')\n",
    "plt.xlabel('Model', rotation=90)\n",
    "plt.title('Model Accuracy Comparison')\n",
    "plt.xticks(rotation=90)\n",
    "plt.show()\n"
   ]
  },
  {
   "cell_type": "code",
   "execution_count": 83,
   "id": "7a67a436",
   "metadata": {},
   "outputs": [],
   "source": [
    "#USING THE CODE BELOW THE PREDICTIVE MODEL WILL PREDICT THE SENTIMENTS ON ANY NEW DATASET"
   ]
  },
  {
   "cell_type": "code",
   "execution_count": 68,
   "id": "4602d66b",
   "metadata": {},
   "outputs": [],
   "source": [
    "import pickle"
   ]
  },
  {
   "cell_type": "code",
   "execution_count": 69,
   "id": "bc0ebac5",
   "metadata": {},
   "outputs": [],
   "source": [
    "# Save the fitted vectorizer to disk\n",
    "with open('vectorizer.pickle', 'wb') as handle:\n",
    "    pickle.dump(vectorizer, handle, protocol=pickle.HIGHEST_PROTOCOL)"
   ]
  },
  {
   "cell_type": "code",
   "execution_count": 70,
   "id": "ea9cb049",
   "metadata": {},
   "outputs": [],
   "source": [
    "# Save the logistic regression model to disk\n",
    "with open('logistic_regression.pickle', 'wb') as handle:\n",
    "    pickle.dump(logistic_regression, handle, protocol=pickle.HIGHEST_PROTOCOL)"
   ]
  },
  {
   "cell_type": "code",
   "execution_count": 71,
   "id": "e458317d",
   "metadata": {},
   "outputs": [],
   "source": [
    "# Save the accuracy score to disk\n",
    "with open('accuracy.pickle', 'wb') as handle:\n",
    "    pickle.dump(accuracy, handle, protocol=pickle.HIGHEST_PROTOCOL)"
   ]
  },
  {
   "cell_type": "code",
   "execution_count": 73,
   "id": "a1aad7d6",
   "metadata": {},
   "outputs": [],
   "source": [
    "# Read the new dataset\n",
    "#Before running the code with the from this cell remove the hashtag\n",
    "#new_data = pd.read_csv(\"paste the new_dataset file here .csv\")"
   ]
  },
  {
   "cell_type": "code",
   "execution_count": 74,
   "id": "62bfee5c",
   "metadata": {},
   "outputs": [],
   "source": [
    "# Prepare the new dataset for prediction\n",
    "# Before running the code with the from this cell remove the hashtag\n",
    "#X_new = new_data['text'] # feature variable\n",
    "\n",
    "# Transform the new text data into vectors using the loaded vectorizer\n",
    "#X_new_vectors = vectorizer.transform(X_new)\n",
    "\n",
    "# Make predictions on the new data using the loaded logistic regression model\n",
    "#y_new_pred = logistic_regression.predict(X_new_vectors)\n",
    "\n",
    "# Use the loaded accuracy score to evaluate the predictions on the new data\n",
    "# (Note: this assumes the accuracy score was calculated using a test set similar to the new data)\n",
    "#print(\"Accuracy on new data: \", accuracy)\n",
    "\n",
    "# Add the predicted sentiments to the new data\n",
    "#new_data['sentiment'] = y_pred_new\n",
    "\n",
    "# Save the new data with the predicted sentiments to a CSV file\n",
    "#new_data.to_csv('New Dataset with Predicted Sentiments.csv', index=False)"
   ]
  }
 ],
 "metadata": {
  "kernelspec": {
   "display_name": "Python 3 (ipykernel)",
   "language": "python",
   "name": "python3"
  },
  "language_info": {
   "codemirror_mode": {
    "name": "ipython",
    "version": 3
   },
   "file_extension": ".py",
   "mimetype": "text/x-python",
   "name": "python",
   "nbconvert_exporter": "python",
   "pygments_lexer": "ipython3",
   "version": "3.9.12"
  }
 },
 "nbformat": 4,
 "nbformat_minor": 5
}
